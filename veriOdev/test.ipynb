{
 "cells": [
  {
   "cell_type": "markdown",
   "metadata": {},
   "source": [
    "## Gerekli Kütüphanelerin Yüklenmesi"
   ]
  },
  {
   "cell_type": "code",
   "execution_count": null,
   "metadata": {},
   "outputs": [],
   "source": [
    "import pandas as pd\n",
    "from sklearn.model_selection import train_test_split, GridSearchCV\n",
    "from sklearn.ensemble import RandomForestClassifier\n",
    "from sklearn.metrics import accuracy_score, classification_report, confusion_matrix\n",
    "from sklearn.preprocessing import MinMaxScaler\n",
    "import matplotlib.pyplot as plt\n",
    "import seaborn as sns\n",
    "\n",
    "# Matplotlib grafiklerini notebook içinde göstermek için\n",
    "%matplotlib inline\n",
    "\n",
    "# Grafik stilini belirle\n",
    "sns.set(style=\"whitegrid\")"
   ]
  },
  {
   "cell_type": "markdown",
   "metadata": {},
   "source": [
    "## Veri Setini Yükleme ve İlk İnceleme"
   ]
  },
  {
   "cell_type": "code",
   "execution_count": null,
   "metadata": {},
   "outputs": [],
   "source": [
    "# Veri setini yükle\n",
    "data = pd.read_csv('train_odev.csv')\n",
    "\n",
    "# Veri setinin ilk 5 satırına göz at\n",
    "data.head()"
   ]
  },
  {
   "cell_type": "markdown",
   "metadata": {},
   "source": [
    "## Veri Setinin Genel Bilgileri ve Eksik Veri Kontrolü"
   ]
  },
  {
   "cell_type": "code",
   "execution_count": null,
   "metadata": {},
   "outputs": [],
   "source": [
    "# Min-Max ölçekleme ile 'memory' sütununu ölçekle\n",
    "scaler = MinMaxScaler()\n",
    "data['memory_scaled'] = scaler.fit_transform(data[['memory']])\n",
    "\n",
    "# 'speed' sütununun ortalamasına göre yeni bir özellik oluştur\n",
    "data['high_speed'] = (data['speed'] > data['speed'].mean()).astype(int)\n",
    "\n",
    "# Gerekli olmayan sütunları çıkar\n",
    "X = data.drop(columns=['price_range', 'speed', 'memory'])\n",
    "y = data['price_range']\n",
    "\n",
    "# Ön işlenmiş verinin ilk 5 satırını görüntüle\n",
    "X.head()"
   ]
  },
  {
   "cell_type": "markdown",
   "metadata": {},
   "source": [
    "## Veri Görselleştirme (Histogramlar ve Dağılım Grafikleri)"
   ]
  },
  {
   "cell_type": "code",
   "execution_count": null,
   "metadata": {},
   "outputs": [],
   "source": [
    "# Histogram ile bazı özelliklerin dağılımını incele\n",
    "plt.figure(figsize=(12, 8))\n",
    "data[['memory_scaled', 'speed', 'high_speed']].hist(bins=20, figsize=(12, 8))\n",
    "plt.tight_layout()\n",
    "plt.show()"
   ]
  },
  {
   "cell_type": "markdown",
   "metadata": {},
   "source": [
    "## Veriyi Eğitim ve Test Setlerine Ayırma"
   ]
  },
  {
   "cell_type": "code",
   "execution_count": null,
   "metadata": {},
   "outputs": [],
   "source": [
    "# Veriyi eğitim ve test setlerine ayır\n",
    "X_train, X_test, y_train, y_test = train_test_split(X, y, test_size=0.2, random_state=42, stratify=y)\n",
    "\n",
    "print(f\"Eğitim seti boyutu: {X_train.shape}\")\n",
    "print(f\"Test seti boyutu: {X_test.shape}\")"
   ]
  },
  {
   "cell_type": "markdown",
   "metadata": {},
   "source": [
    "## Random Forest ve GridSearchCV ile Model Eğitimi"
   ]
  },
  {
   "cell_type": "code",
   "execution_count": null,
   "metadata": {},
   "outputs": [],
   "source": [
    "# Hiperparametre aralığı\n",
    "parametre_alanı = {\n",
    "    'n_estimators': [50, 100, 200],\n",
    "    'max_depth': [10, 20, None],\n",
    "    'min_samples_split': [2, 5, 10],\n",
    "    'min_samples_leaf': [1, 2, 4]\n",
    "}\n",
    "\n",
    "# Random Forest modeli\n",
    "rf_model = RandomForestClassifier(random_state=42)\n",
    "\n",
    "# GridSearchCV ile en iyi parametreleri bul\n",
    "grid_arama = GridSearchCV(estimator=rf_model, param_grid=parametre_alanı, cv=3, n_jobs=-1, scoring='accuracy')\n",
    "grid_arama.fit(X_train, y_train)\n",
    "\n",
    "# En iyi modeli al\n",
    "en_iyi_rf_modeli = grid_arama.best_estimator_\n",
    "\n",
    "print(\"En iyi hiperparametreler:\", grid_arama.best_params_)"
   ]
  },
  {
   "cell_type": "markdown",
   "metadata": {},
   "source": [
    "## Model Performansını Değerlendirme"
   ]
  },
  {
   "cell_type": "code",
   "execution_count": null,
   "metadata": {},
   "outputs": [],
   "source": [
    "# Modelin test seti üzerinde tahmini\n",
    "y_tahmin = en_iyi_rf_modeli.predict(X_test)\n",
    "\n",
    "# Doğruluk skoru ve sınıflandırma raporu\n",
    "doğruluk = accuracy_score(y_test, y_tahmin)\n",
    "sınıflandırma_raporu = classification_report(y_test, y_tahmin)\n",
    "karmaşıklık_matrisi = confusion_matrix(y_test, y_tahmin)\n",
    "\n",
    "print(\"Doğruluk:\", doğruluk)\n",
    "print(\"\\nSınıflandırma Raporu:\\n\", sınıflandırma_raporu)"
   ]
  },
  {
   "cell_type": "markdown",
   "metadata": {},
   "source": [
    "## Karmaşıklık Matrisini Görselleştirme"
   ]
  },
  {
   "cell_type": "code",
   "execution_count": null,
   "metadata": {},
   "outputs": [],
   "source": [
    "# Karmaşıklık matrisini görselleştir\n",
    "plt.figure(figsize=(8, 6))\n",
    "sns.heatmap(karmaşıklık_matrisi, annot=True, fmt='d', cmap='Blues', xticklabels=y.unique(), yticklabels=y.unique())\n",
    "plt.title('Karmaşıklık Matrisi')\n",
    "plt.xlabel('Tahmin Edilen Etiketler')\n",
    "plt.ylabel('Gerçek Etiketler')\n",
    "plt.show()"
   ]
  },
  {
   "cell_type": "markdown",
   "metadata": {},
   "source": [
    "## Özellik Önem Sırasını Görselleştirme"
   ]
  },
  {
   "cell_type": "code",
   "execution_count": null,
   "metadata": {},
   "outputs": [],
   "source": [
    "# Özellik önem sırasını belirle ve görselleştir\n",
    "önemler = en_iyi_rf_modeli.feature_importances_\n",
    "özellik_önemi_df = pd.DataFrame({\n",
    "    'Özellik': X.columns,\n",
    "    'Önem': önemler\n",
    "}).sort_values(by='Önem', ascending=False)\n",
    "\n",
    "plt.figure(figsize=(10, 6))\n",
    "sns.barplot(x='Önem', y='Özellik', data=özellik_önemi_df)\n",
    "plt.title('Özelliklerin Önem Sırası')\n",
    "plt.show()\n",
    "\n",
    "özellik_önemi_df"
   ]
  },
  {
   "cell_type": "markdown",
   "metadata": {},
   "source": [
    "## İşlenmiş Veriyi ve Özellik Önem Sırasını Kaydetme"
   ]
  },
  {
   "cell_type": "code",
   "execution_count": null,
   "metadata": {},
   "outputs": [],
   "source": [
    "# İşlenmiş veriyi ve özellik önem sırasını CSV dosyası olarak kaydet\n",
    "data.to_csv('processed_data.csv', index=False)\n",
    "özellik_önemi_df.to_csv('feature_importance.csv', index=False)\n",
    "\n",
    "print(\"Dosyalar kaydedildi:\")\n",
    "print(\"1. İşlenmiş veri: processed_data.csv\")\n",
    "print(\"2. Özellik önemi: feature_importance.csv\")"
   ]
  }
 ],
 "metadata": {
  "language_info": {
   "name": "python"
  }
 },
 "nbformat": 4,
 "nbformat_minor": 2
}
